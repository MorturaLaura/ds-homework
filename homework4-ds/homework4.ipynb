{
 "cells": [
  {
   "cell_type": "markdown",
   "metadata": {},
   "source": [
    "### Description\n",
    "* Please complete all the exercises in this homework in order. The main objective of the homework is to walk you through a toy problem for regression.\n",
    "* The data for this homework is available in the `.db` file provided inside this folder. Please use this file to extract the data using SQL.\n",
    "* Complete the exercises by filling in each code cell below. No need to create a separate file. Simply add your code to each cell and then run it.\n",
    "* Once you complete your homework, please upload the notebook to your forked repo.\n",
    "* Deadline: 15 Nov 2021 @ 23.59.59 EEST"
   ]
  },
  {
   "cell_type": "markdown",
   "metadata": {},
   "source": [
    "#### Step 1 - Connect to the SQLite database using sqlite3"
   ]
  },
  {
   "cell_type": "code",
   "execution_count": null,
   "metadata": {},
   "outputs": [],
   "source": [
    "# Your code goes here"
   ]
  },
  {
   "cell_type": "markdown",
   "metadata": {},
   "source": [
    "#### Step 2 - Load the data using pandas.read_sql()\n",
    "* https://pandas.pydata.org/pandas-docs/stable/reference/api/pandas.read_sql.html"
   ]
  },
  {
   "cell_type": "code",
   "execution_count": 3,
   "metadata": {},
   "outputs": [],
   "source": [
    "# Your code goes here"
   ]
  },
  {
   "cell_type": "markdown",
   "metadata": {},
   "source": [
    "#### Step 3 - Explore the data\n",
    "Before building a model, check out your data and ensure that it is clean. Things you should be careful about include:\n",
    "\n",
    "* null or missing values\n",
    "* unmatched data types\n",
    "* anomalies (very large or very small values)\n",
    "\n",
    "Please note that your data set is a modified version of the data available here: https://scikit-learn.org/stable/modules/generated/sklearn.datasets.load_diabetes.html"
   ]
  },
  {
   "cell_type": "code",
   "execution_count": null,
   "metadata": {},
   "outputs": [],
   "source": [
    "# Your code goes here"
   ]
  },
  {
   "cell_type": "markdown",
   "metadata": {},
   "source": [
    "Please provide a description of your findings below:\n",
    "\n",
    "* Finding 1:"
   ]
  },
  {
   "cell_type": "markdown",
   "metadata": {},
   "source": [
    "#### Step 4 - Clean your data\n",
    "\n",
    "* Remove null or missing values\n",
    "* Clean data types\n",
    "* Remove outliers"
   ]
  },
  {
   "cell_type": "code",
   "execution_count": 4,
   "metadata": {},
   "outputs": [],
   "source": [
    "# Your code goes here"
   ]
  },
  {
   "cell_type": "markdown",
   "metadata": {},
   "source": [
    "#### Step 5 - Split your dataset into a training and test data set using scikit-learn's train_test_split() method"
   ]
  },
  {
   "cell_type": "code",
   "execution_count": 6,
   "metadata": {},
   "outputs": [],
   "source": [
    "# Your code goes here"
   ]
  },
  {
   "cell_type": "markdown",
   "metadata": {},
   "source": [
    "#### Step 6 - Develop a class that accepts X, y on the constructor and implements the functionality highlighted below. \n",
    "\n",
    "* The constructor takes in a matrix, X, with the observations (independent variables) and the target, y, (dependent variable)\n",
    "* Has a method fit where it trains THREE different regressors\n",
    "* Reports the average of all predictors as the final target value \n",
    "* Can compute the MSE and MAE for any prediction\n",
    "* Has a method predict that can be used to predict the target variable for unseen data. The final prediction is an\n",
    "average off the values predicted by the regressors\n",
    "* (Optional) Extend the class to use an arbitrary number of regressors "
   ]
  },
  {
   "cell_type": "code",
   "execution_count": 10,
   "metadata": {},
   "outputs": [],
   "source": [
    "# Implement the methods below + add any methods you think are necessary to create this Regressor class\n",
    "class Regressor:\n",
    "    def __init__(self, X, y):\n",
    "        pass \n",
    "    \n",
    "    def fit(self, *args, **kwargs):\n",
    "        pass \n",
    "    \n",
    "    def predict(self, *args, **kwargs):\n",
    "        pass \n",
    "    \n",
    "    def mse(self, *args, **kwargs):\n",
    "        pass\n",
    "    \n",
    "    def mae(self, *args, **kwargs):\n",
    "        pass"
   ]
  },
  {
   "cell_type": "markdown",
   "metadata": {},
   "source": [
    "#### Step 7 - Train a Regressor on the data provided using the class you created"
   ]
  },
  {
   "cell_type": "code",
   "execution_count": 16,
   "metadata": {},
   "outputs": [],
   "source": [
    "# Your code goes here"
   ]
  },
  {
   "cell_type": "markdown",
   "metadata": {},
   "source": [
    "#### Step 8 - Validate the regressors MAE and MSE on the training set"
   ]
  },
  {
   "cell_type": "code",
   "execution_count": 17,
   "metadata": {},
   "outputs": [],
   "source": [
    "# Your code goes here"
   ]
  },
  {
   "cell_type": "markdown",
   "metadata": {},
   "source": [
    "#### Step 9 - Validate the regressor's MAE and MSE on the test set"
   ]
  },
  {
   "cell_type": "code",
   "execution_count": 18,
   "metadata": {},
   "outputs": [],
   "source": [
    "# Your code goes here"
   ]
  },
  {
   "cell_type": "markdown",
   "metadata": {},
   "source": [
    "#### Step 10 - What conclusions can you draw from the MSE and MAE? \n",
    "* Is your model accurately predicting the target?\n",
    "* Do you think you are overfitting?\n",
    "* Do you think your model is biased?\n",
    "* What could you do to improve your regressor's predictive power?"
   ]
  },
  {
   "cell_type": "code",
   "execution_count": 19,
   "metadata": {},
   "outputs": [],
   "source": [
    "# Your code goes here"
   ]
  },
  {
   "cell_type": "markdown",
   "metadata": {},
   "source": [
    "#### Step 11 - Visualise your data (optional)\n",
    "\n",
    "Your data is multi-dimensional. Can you think of a way to visualise the data and the regressor results? "
   ]
  },
  {
   "cell_type": "code",
   "execution_count": 21,
   "metadata": {},
   "outputs": [],
   "source": [
    "# Your code goes here"
   ]
  },
  {
   "cell_type": "code",
   "execution_count": null,
   "metadata": {},
   "outputs": [],
   "source": []
  }
 ],
 "metadata": {
  "kernelspec": {
   "display_name": "Python 3",
   "language": "python",
   "name": "python3"
  },
  "language_info": {
   "codemirror_mode": {
    "name": "ipython",
    "version": 3
   },
   "file_extension": ".py",
   "mimetype": "text/x-python",
   "name": "python",
   "nbconvert_exporter": "python",
   "pygments_lexer": "ipython3",
   "version": "3.8.3"
  }
 },
 "nbformat": 4,
 "nbformat_minor": 2
}
